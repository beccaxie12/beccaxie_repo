{
 "cells": [
  {
   "cell_type": "code",
   "execution_count": 1,
   "metadata": {},
   "outputs": [],
   "source": [
    "strategies=['Rock','Paper','Scissors','Lizard','Spock']"
   ]
  },
  {
   "cell_type": "code",
   "execution_count": 2,
   "metadata": {},
   "outputs": [],
   "source": [
    "payoff={('Rock','Paper'):(0,1),\n",
    "        ('Paper','Rock'):(1,0),\n",
    "        ('Rock','Scissors'):(1,0),\n",
    "        ('Scissors','Rock'):(0,1),\n",
    "        ('Rock','Lizard'):(1,0),\n",
    "        ('Lizard','Rock'):(0,1),\n",
    "        ('Rock','Spock'):(0,1),\n",
    "        ('Spock','Rock'):(1,0),\n",
    "        ('Paper','Scissors'):(0,1),\n",
    "        ('Scissors','Paper'):(1,0),\n",
    "        ('Paper','Spock'):(1,0),\n",
    "        ('Spock','Paper'):(0,1),\n",
    "        ('Paper','Lizard'):(0,1),\n",
    "        ('Lizard','Paper'):(1,0),\n",
    "        ('Spock','Scissors'):(1,0),\n",
    "        ('Scissors','Spock'):(0,1),\n",
    "        ('Lizard','Scissors'):(0,1),\n",
    "        ('Scissors','Lizard'):(1,0),\n",
    "        ('Spock','Lizard'):(0,1),\n",
    "        ('Lizard','Spock'):(1,0),\n",
    "        ('Rock','Rock'):(0,0),\n",
    "        ('Paper','Paper'):(0,0),\n",
    "        ('Scissors','Scissors'):(0,0),\n",
    "        ('Lizard','Lizard'):(0,0),\n",
    "        ('Spock','Spock'):(0,0)}"
   ]
  },
  {
   "cell_type": "code",
   "execution_count": 3,
   "metadata": {},
   "outputs": [],
   "source": [
    "Players=[{'name':'John','score':0,'strategy':None},\n",
    "         {'name':'Mary','score':0,'strategy':None}]"
   ]
  },
  {
   "cell_type": "code",
   "execution_count": 4,
   "metadata": {},
   "outputs": [],
   "source": [
    "from random import choice\n",
    "\n",
    "#simples: choose randomly\n",
    "choice(strategies)"
   ]
  },
  {
   "cell_type": "code",
   "execution_count": 5,
   "metadata": {},
   "outputs": [],
   "source": [
    "Players[0]['strategy']=choice(strategies)\n",
    "Players[1]['strategy']=choice(strategies)"
   ]
  },
  {
   "cell_type": "code",
   "execution_count": 6,
   "metadata": {},
   "outputs": [],
   "source": [
    "# current decision\n",
    "Players[0]['strategy'],Players[1]['strategy']"
   ]
  },
  {
   "cell_type": "code",
   "execution_count": 7,
   "metadata": {},
   "outputs": [],
   "source": [
    "result = payoff[Players[0]['strategy'],Players[1]['strategy']]\n",
    "result"
   ]
  },
  {
   "cell_type": "code",
   "execution_count": 8,
   "metadata": {
    "scrolled": true
   },
   "outputs": [],
   "source": [
    "# update agents situation\n",
    "Players[0]['score']+=result[0]\n",
    "Players[1]['score']+=result[1]"
   ]
  },
  {
   "cell_type": "code",
   "execution_count": 9,
   "metadata": {},
   "outputs": [],
   "source": [
    "# current agent situation\n",
    "Players[0], Players[1]"
   ]
  },
  {
   "cell_type": "code",
   "execution_count": 10,
   "metadata": {},
   "outputs": [
    {
     "data": {
      "text/html": [
       "<div>\n",
       "<style scoped>\n",
       "    .dataframe tbody tr th:only-of-type {\n",
       "        vertical-align: middle;\n",
       "    }\n",
       "\n",
       "    .dataframe tbody tr th {\n",
       "        vertical-align: top;\n",
       "    }\n",
       "\n",
       "    .dataframe thead th {\n",
       "        text-align: right;\n",
       "    }\n",
       "</style>\n",
       "<table border=\"1\" class=\"dataframe\">\n",
       "  <thead>\n",
       "    <tr style=\"text-align: right;\">\n",
       "      <th></th>\n",
       "      <th>name</th>\n",
       "      <th>score</th>\n",
       "      <th>strategy</th>\n",
       "    </tr>\n",
       "  </thead>\n",
       "  <tbody>\n",
       "    <tr>\n",
       "      <th>0</th>\n",
       "      <td>John</td>\n",
       "      <td>0</td>\n",
       "      <td>Lizard</td>\n",
       "    </tr>\n",
       "    <tr>\n",
       "      <th>1</th>\n",
       "      <td>Mary</td>\n",
       "      <td>0</td>\n",
       "      <td>Lizard</td>\n",
       "    </tr>\n",
       "  </tbody>\n",
       "</table>\n",
       "</div>"
      ],
      "text/plain": [
       "   name  score strategy\n",
       "0  John      0   Lizard\n",
       "1  Mary      0   Lizard"
      ]
     },
     "execution_count": 10,
     "metadata": {},
     "output_type": "execute_result"
    }
   ],
   "source": [
    "import pandas as pd \n",
    "\n",
    "socialResults=pd.DataFrame((Players[0], Players[1]))\n",
    "socialResults"
   ]
  },
  {
   "cell_type": "code",
   "execution_count": 11,
   "metadata": {},
   "outputs": [
    {
     "data": {
      "text/html": [
       "<div>\n",
       "<style scoped>\n",
       "    .dataframe tbody tr th:only-of-type {\n",
       "        vertical-align: middle;\n",
       "    }\n",
       "\n",
       "    .dataframe tbody tr th {\n",
       "        vertical-align: top;\n",
       "    }\n",
       "\n",
       "    .dataframe thead th {\n",
       "        text-align: right;\n",
       "    }\n",
       "</style>\n",
       "<table border=\"1\" class=\"dataframe\">\n",
       "  <thead>\n",
       "    <tr style=\"text-align: right;\">\n",
       "      <th></th>\n",
       "      <th>name</th>\n",
       "      <th>score</th>\n",
       "      <th>strategy</th>\n",
       "    </tr>\n",
       "  </thead>\n",
       "  <tbody>\n",
       "    <tr>\n",
       "      <th>0</th>\n",
       "      <td>John</td>\n",
       "      <td>0</td>\n",
       "      <td>Lizard</td>\n",
       "    </tr>\n",
       "    <tr>\n",
       "      <th>1</th>\n",
       "      <td>Mary</td>\n",
       "      <td>0</td>\n",
       "      <td>Lizard</td>\n",
       "    </tr>\n",
       "  </tbody>\n",
       "</table>\n",
       "</div>"
      ],
      "text/plain": [
       "   name  score strategy\n",
       "0  John      0   Lizard\n",
       "1  Mary      0   Lizard"
      ]
     },
     "execution_count": 11,
     "metadata": {},
     "output_type": "execute_result"
    }
   ],
   "source": [
    "filter1=socialResults.score==socialResults.score.max()\n",
    "winner=socialResults[filter1]\n",
    "\n",
    "#social outcome\n",
    "winner"
   ]
  },
  {
   "cell_type": "code",
   "execution_count": 12,
   "metadata": {},
   "outputs": [],
   "source": [
    "# names of players\n",
    "names=['Hanna','Becca','Bryn','Zoe','Marina','Annie','TJ','Oliver','Nick','Jose']"
   ]
  },
  {
   "cell_type": "code",
   "execution_count": 13,
   "metadata": {},
   "outputs": [],
   "source": [
    "# list of players\n",
    "society=[{'name':n,'score':0,'strategy':None} for n in names]"
   ]
  },
  {
   "cell_type": "code",
   "execution_count": 14,
   "metadata": {},
   "outputs": [
    {
     "data": {
      "text/plain": [
       "[{'name': 'Hanna', 'score': 0, 'strategy': None},\n",
       " {'name': 'Becca', 'score': 0, 'strategy': None},\n",
       " {'name': 'Bryn', 'score': 0, 'strategy': None},\n",
       " {'name': 'Zoe', 'score': 0, 'strategy': None},\n",
       " {'name': 'Marina', 'score': 0, 'strategy': None},\n",
       " {'name': 'Annie', 'score': 0, 'strategy': None},\n",
       " {'name': 'TJ', 'score': 0, 'strategy': None},\n",
       " {'name': 'Oliver', 'score': 0, 'strategy': None},\n",
       " {'name': 'Nick', 'score': 0, 'strategy': None},\n",
       " {'name': 'Jose', 'score': 0, 'strategy': None}]"
      ]
     },
     "execution_count": 14,
     "metadata": {},
     "output_type": "execute_result"
    }
   ],
   "source": [
    "# each player a dict:\n",
    "society\n"
   ]
  },
  {
   "cell_type": "code",
   "execution_count": 15,
   "metadata": {},
   "outputs": [
    {
     "name": "stdout",
     "output_type": "stream",
     "text": [
      "({'name': 'Hanna', 'score': 0, 'strategy': None}, {'name': 'Becca', 'score': 0, 'strategy': None})\n",
      "({'name': 'Hanna', 'score': 0, 'strategy': None}, {'name': 'Bryn', 'score': 0, 'strategy': None})\n",
      "({'name': 'Hanna', 'score': 0, 'strategy': None}, {'name': 'Zoe', 'score': 0, 'strategy': None})\n",
      "({'name': 'Hanna', 'score': 0, 'strategy': None}, {'name': 'Marina', 'score': 0, 'strategy': None})\n",
      "({'name': 'Hanna', 'score': 0, 'strategy': None}, {'name': 'Annie', 'score': 0, 'strategy': None})\n",
      "({'name': 'Hanna', 'score': 0, 'strategy': None}, {'name': 'TJ', 'score': 0, 'strategy': None})\n",
      "({'name': 'Hanna', 'score': 0, 'strategy': None}, {'name': 'Oliver', 'score': 0, 'strategy': None})\n",
      "({'name': 'Hanna', 'score': 0, 'strategy': None}, {'name': 'Nick', 'score': 0, 'strategy': None})\n",
      "({'name': 'Hanna', 'score': 0, 'strategy': None}, {'name': 'Jose', 'score': 0, 'strategy': None})\n",
      "({'name': 'Becca', 'score': 0, 'strategy': None}, {'name': 'Bryn', 'score': 0, 'strategy': None})\n",
      "({'name': 'Becca', 'score': 0, 'strategy': None}, {'name': 'Zoe', 'score': 0, 'strategy': None})\n",
      "({'name': 'Becca', 'score': 0, 'strategy': None}, {'name': 'Marina', 'score': 0, 'strategy': None})\n",
      "({'name': 'Becca', 'score': 0, 'strategy': None}, {'name': 'Annie', 'score': 0, 'strategy': None})\n",
      "({'name': 'Becca', 'score': 0, 'strategy': None}, {'name': 'TJ', 'score': 0, 'strategy': None})\n",
      "({'name': 'Becca', 'score': 0, 'strategy': None}, {'name': 'Oliver', 'score': 0, 'strategy': None})\n",
      "({'name': 'Becca', 'score': 0, 'strategy': None}, {'name': 'Nick', 'score': 0, 'strategy': None})\n",
      "({'name': 'Becca', 'score': 0, 'strategy': None}, {'name': 'Jose', 'score': 0, 'strategy': None})\n",
      "({'name': 'Bryn', 'score': 0, 'strategy': None}, {'name': 'Zoe', 'score': 0, 'strategy': None})\n",
      "({'name': 'Bryn', 'score': 0, 'strategy': None}, {'name': 'Marina', 'score': 0, 'strategy': None})\n",
      "({'name': 'Bryn', 'score': 0, 'strategy': None}, {'name': 'Annie', 'score': 0, 'strategy': None})\n",
      "({'name': 'Bryn', 'score': 0, 'strategy': None}, {'name': 'TJ', 'score': 0, 'strategy': None})\n",
      "({'name': 'Bryn', 'score': 0, 'strategy': None}, {'name': 'Oliver', 'score': 0, 'strategy': None})\n",
      "({'name': 'Bryn', 'score': 0, 'strategy': None}, {'name': 'Nick', 'score': 0, 'strategy': None})\n",
      "({'name': 'Bryn', 'score': 0, 'strategy': None}, {'name': 'Jose', 'score': 0, 'strategy': None})\n",
      "({'name': 'Zoe', 'score': 0, 'strategy': None}, {'name': 'Marina', 'score': 0, 'strategy': None})\n",
      "({'name': 'Zoe', 'score': 0, 'strategy': None}, {'name': 'Annie', 'score': 0, 'strategy': None})\n",
      "({'name': 'Zoe', 'score': 0, 'strategy': None}, {'name': 'TJ', 'score': 0, 'strategy': None})\n",
      "({'name': 'Zoe', 'score': 0, 'strategy': None}, {'name': 'Oliver', 'score': 0, 'strategy': None})\n",
      "({'name': 'Zoe', 'score': 0, 'strategy': None}, {'name': 'Nick', 'score': 0, 'strategy': None})\n",
      "({'name': 'Zoe', 'score': 0, 'strategy': None}, {'name': 'Jose', 'score': 0, 'strategy': None})\n",
      "({'name': 'Marina', 'score': 0, 'strategy': None}, {'name': 'Annie', 'score': 0, 'strategy': None})\n",
      "({'name': 'Marina', 'score': 0, 'strategy': None}, {'name': 'TJ', 'score': 0, 'strategy': None})\n",
      "({'name': 'Marina', 'score': 0, 'strategy': None}, {'name': 'Oliver', 'score': 0, 'strategy': None})\n",
      "({'name': 'Marina', 'score': 0, 'strategy': None}, {'name': 'Nick', 'score': 0, 'strategy': None})\n",
      "({'name': 'Marina', 'score': 0, 'strategy': None}, {'name': 'Jose', 'score': 0, 'strategy': None})\n",
      "({'name': 'Annie', 'score': 0, 'strategy': None}, {'name': 'TJ', 'score': 0, 'strategy': None})\n",
      "({'name': 'Annie', 'score': 0, 'strategy': None}, {'name': 'Oliver', 'score': 0, 'strategy': None})\n",
      "({'name': 'Annie', 'score': 0, 'strategy': None}, {'name': 'Nick', 'score': 0, 'strategy': None})\n",
      "({'name': 'Annie', 'score': 0, 'strategy': None}, {'name': 'Jose', 'score': 0, 'strategy': None})\n",
      "({'name': 'TJ', 'score': 0, 'strategy': None}, {'name': 'Oliver', 'score': 0, 'strategy': None})\n",
      "({'name': 'TJ', 'score': 0, 'strategy': None}, {'name': 'Nick', 'score': 0, 'strategy': None})\n",
      "({'name': 'TJ', 'score': 0, 'strategy': None}, {'name': 'Jose', 'score': 0, 'strategy': None})\n",
      "({'name': 'Oliver', 'score': 0, 'strategy': None}, {'name': 'Nick', 'score': 0, 'strategy': None})\n",
      "({'name': 'Oliver', 'score': 0, 'strategy': None}, {'name': 'Jose', 'score': 0, 'strategy': None})\n",
      "({'name': 'Nick', 'score': 0, 'strategy': None}, {'name': 'Jose', 'score': 0, 'strategy': None})\n"
     ]
    }
   ],
   "source": [
    "import itertools \n",
    "for pair in itertools.combinations(society,2):\n",
    "    print(pair)"
   ]
  },
  {
   "cell_type": "code",
   "execution_count": 16,
   "metadata": {},
   "outputs": [
    {
     "name": "stdout",
     "output_type": "stream",
     "text": [
      "{'name': 'Hanna', 'score': 0, 'strategy': None} {'name': 'Becca', 'score': 0, 'strategy': None}\n",
      "{'name': 'Hanna', 'score': 0, 'strategy': None} {'name': 'Bryn', 'score': 0, 'strategy': None}\n",
      "{'name': 'Hanna', 'score': 0, 'strategy': None} {'name': 'Zoe', 'score': 0, 'strategy': None}\n",
      "{'name': 'Hanna', 'score': 0, 'strategy': None} {'name': 'Marina', 'score': 0, 'strategy': None}\n",
      "{'name': 'Hanna', 'score': 0, 'strategy': None} {'name': 'Annie', 'score': 0, 'strategy': None}\n",
      "{'name': 'Hanna', 'score': 0, 'strategy': None} {'name': 'TJ', 'score': 0, 'strategy': None}\n",
      "{'name': 'Hanna', 'score': 0, 'strategy': None} {'name': 'Oliver', 'score': 0, 'strategy': None}\n",
      "{'name': 'Hanna', 'score': 0, 'strategy': None} {'name': 'Nick', 'score': 0, 'strategy': None}\n",
      "{'name': 'Hanna', 'score': 0, 'strategy': None} {'name': 'Jose', 'score': 0, 'strategy': None}\n",
      "{'name': 'Becca', 'score': 0, 'strategy': None} {'name': 'Bryn', 'score': 0, 'strategy': None}\n",
      "{'name': 'Becca', 'score': 0, 'strategy': None} {'name': 'Zoe', 'score': 0, 'strategy': None}\n",
      "{'name': 'Becca', 'score': 0, 'strategy': None} {'name': 'Marina', 'score': 0, 'strategy': None}\n",
      "{'name': 'Becca', 'score': 0, 'strategy': None} {'name': 'Annie', 'score': 0, 'strategy': None}\n",
      "{'name': 'Becca', 'score': 0, 'strategy': None} {'name': 'TJ', 'score': 0, 'strategy': None}\n",
      "{'name': 'Becca', 'score': 0, 'strategy': None} {'name': 'Oliver', 'score': 0, 'strategy': None}\n",
      "{'name': 'Becca', 'score': 0, 'strategy': None} {'name': 'Nick', 'score': 0, 'strategy': None}\n",
      "{'name': 'Becca', 'score': 0, 'strategy': None} {'name': 'Jose', 'score': 0, 'strategy': None}\n",
      "{'name': 'Bryn', 'score': 0, 'strategy': None} {'name': 'Zoe', 'score': 0, 'strategy': None}\n",
      "{'name': 'Bryn', 'score': 0, 'strategy': None} {'name': 'Marina', 'score': 0, 'strategy': None}\n",
      "{'name': 'Bryn', 'score': 0, 'strategy': None} {'name': 'Annie', 'score': 0, 'strategy': None}\n",
      "{'name': 'Bryn', 'score': 0, 'strategy': None} {'name': 'TJ', 'score': 0, 'strategy': None}\n",
      "{'name': 'Bryn', 'score': 0, 'strategy': None} {'name': 'Oliver', 'score': 0, 'strategy': None}\n",
      "{'name': 'Bryn', 'score': 0, 'strategy': None} {'name': 'Nick', 'score': 0, 'strategy': None}\n",
      "{'name': 'Bryn', 'score': 0, 'strategy': None} {'name': 'Jose', 'score': 0, 'strategy': None}\n",
      "{'name': 'Zoe', 'score': 0, 'strategy': None} {'name': 'Marina', 'score': 0, 'strategy': None}\n",
      "{'name': 'Zoe', 'score': 0, 'strategy': None} {'name': 'Annie', 'score': 0, 'strategy': None}\n",
      "{'name': 'Zoe', 'score': 0, 'strategy': None} {'name': 'TJ', 'score': 0, 'strategy': None}\n",
      "{'name': 'Zoe', 'score': 0, 'strategy': None} {'name': 'Oliver', 'score': 0, 'strategy': None}\n",
      "{'name': 'Zoe', 'score': 0, 'strategy': None} {'name': 'Nick', 'score': 0, 'strategy': None}\n",
      "{'name': 'Zoe', 'score': 0, 'strategy': None} {'name': 'Jose', 'score': 0, 'strategy': None}\n",
      "{'name': 'Marina', 'score': 0, 'strategy': None} {'name': 'Annie', 'score': 0, 'strategy': None}\n",
      "{'name': 'Marina', 'score': 0, 'strategy': None} {'name': 'TJ', 'score': 0, 'strategy': None}\n",
      "{'name': 'Marina', 'score': 0, 'strategy': None} {'name': 'Oliver', 'score': 0, 'strategy': None}\n",
      "{'name': 'Marina', 'score': 0, 'strategy': None} {'name': 'Nick', 'score': 0, 'strategy': None}\n",
      "{'name': 'Marina', 'score': 0, 'strategy': None} {'name': 'Jose', 'score': 0, 'strategy': None}\n",
      "{'name': 'Annie', 'score': 0, 'strategy': None} {'name': 'TJ', 'score': 0, 'strategy': None}\n",
      "{'name': 'Annie', 'score': 0, 'strategy': None} {'name': 'Oliver', 'score': 0, 'strategy': None}\n",
      "{'name': 'Annie', 'score': 0, 'strategy': None} {'name': 'Nick', 'score': 0, 'strategy': None}\n",
      "{'name': 'Annie', 'score': 0, 'strategy': None} {'name': 'Jose', 'score': 0, 'strategy': None}\n",
      "{'name': 'TJ', 'score': 0, 'strategy': None} {'name': 'Oliver', 'score': 0, 'strategy': None}\n",
      "{'name': 'TJ', 'score': 0, 'strategy': None} {'name': 'Nick', 'score': 0, 'strategy': None}\n",
      "{'name': 'TJ', 'score': 0, 'strategy': None} {'name': 'Jose', 'score': 0, 'strategy': None}\n",
      "{'name': 'Oliver', 'score': 0, 'strategy': None} {'name': 'Nick', 'score': 0, 'strategy': None}\n",
      "{'name': 'Oliver', 'score': 0, 'strategy': None} {'name': 'Jose', 'score': 0, 'strategy': None}\n",
      "{'name': 'Nick', 'score': 0, 'strategy': None} {'name': 'Jose', 'score': 0, 'strategy': None}\n"
     ]
    }
   ],
   "source": [
    "import itertools \n",
    "for player1,player2 in itertools.combinations(society,2):\n",
    "    print(player1,player2)"
   ]
  },
  {
   "cell_type": "code",
   "execution_count": 17,
   "metadata": {},
   "outputs": [],
   "source": [
    "# chose each pair of players:\n",
    "\n",
    "# list of players\n",
    "society=[{'name':n,'score':0,'strategy':None} for n in names]\n",
    "\n",
    "\n",
    "for player1,player2 in itertools.combinations(society,2):\n",
    "    \n",
    "    player1['strategy']=choice(strategies)\n",
    "    player2['strategy']=choice(strategies)\n",
    "    result=payoff[player1['strategy'],player2['strategy']]\n",
    "    player1['score']+=result[0]\n",
    "    player2['score']+=result[1]"
   ]
  },
  {
   "cell_type": "code",
   "execution_count": 18,
   "metadata": {},
   "outputs": [
    {
     "data": {
      "text/plain": [
       "[{'name': 'Hanna', 'score': 2, 'strategy': 'Rock'},\n",
       " {'name': 'Becca', 'score': 5, 'strategy': 'Scissors'},\n",
       " {'name': 'Bryn', 'score': 5, 'strategy': 'Rock'},\n",
       " {'name': 'Zoe', 'score': 5, 'strategy': 'Spock'},\n",
       " {'name': 'Marina', 'score': 3, 'strategy': 'Lizard'},\n",
       " {'name': 'Annie', 'score': 2, 'strategy': 'Paper'},\n",
       " {'name': 'TJ', 'score': 2, 'strategy': 'Rock'},\n",
       " {'name': 'Oliver', 'score': 6, 'strategy': 'Spock'},\n",
       " {'name': 'Nick', 'score': 3, 'strategy': 'Lizard'},\n",
       " {'name': 'Jose', 'score': 3, 'strategy': 'Rock'}]"
      ]
     },
     "execution_count": 18,
     "metadata": {},
     "output_type": "execute_result"
    }
   ],
   "source": [
    "society"
   ]
  },
  {
   "cell_type": "code",
   "execution_count": 19,
   "metadata": {},
   "outputs": [
    {
     "data": {
      "text/html": [
       "<div>\n",
       "<style scoped>\n",
       "    .dataframe tbody tr th:only-of-type {\n",
       "        vertical-align: middle;\n",
       "    }\n",
       "\n",
       "    .dataframe tbody tr th {\n",
       "        vertical-align: top;\n",
       "    }\n",
       "\n",
       "    .dataframe thead th {\n",
       "        text-align: right;\n",
       "    }\n",
       "</style>\n",
       "<table border=\"1\" class=\"dataframe\">\n",
       "  <thead>\n",
       "    <tr style=\"text-align: right;\">\n",
       "      <th></th>\n",
       "      <th>name</th>\n",
       "      <th>score</th>\n",
       "      <th>strategy</th>\n",
       "    </tr>\n",
       "  </thead>\n",
       "  <tbody>\n",
       "    <tr>\n",
       "      <th>0</th>\n",
       "      <td>Hanna</td>\n",
       "      <td>2</td>\n",
       "      <td>Rock</td>\n",
       "    </tr>\n",
       "    <tr>\n",
       "      <th>1</th>\n",
       "      <td>Becca</td>\n",
       "      <td>5</td>\n",
       "      <td>Scissors</td>\n",
       "    </tr>\n",
       "    <tr>\n",
       "      <th>2</th>\n",
       "      <td>Bryn</td>\n",
       "      <td>5</td>\n",
       "      <td>Rock</td>\n",
       "    </tr>\n",
       "    <tr>\n",
       "      <th>3</th>\n",
       "      <td>Zoe</td>\n",
       "      <td>5</td>\n",
       "      <td>Spock</td>\n",
       "    </tr>\n",
       "    <tr>\n",
       "      <th>4</th>\n",
       "      <td>Marina</td>\n",
       "      <td>3</td>\n",
       "      <td>Lizard</td>\n",
       "    </tr>\n",
       "    <tr>\n",
       "      <th>5</th>\n",
       "      <td>Annie</td>\n",
       "      <td>2</td>\n",
       "      <td>Paper</td>\n",
       "    </tr>\n",
       "    <tr>\n",
       "      <th>6</th>\n",
       "      <td>TJ</td>\n",
       "      <td>2</td>\n",
       "      <td>Rock</td>\n",
       "    </tr>\n",
       "    <tr>\n",
       "      <th>7</th>\n",
       "      <td>Oliver</td>\n",
       "      <td>6</td>\n",
       "      <td>Spock</td>\n",
       "    </tr>\n",
       "    <tr>\n",
       "      <th>8</th>\n",
       "      <td>Nick</td>\n",
       "      <td>3</td>\n",
       "      <td>Lizard</td>\n",
       "    </tr>\n",
       "    <tr>\n",
       "      <th>9</th>\n",
       "      <td>Jose</td>\n",
       "      <td>3</td>\n",
       "      <td>Rock</td>\n",
       "    </tr>\n",
       "  </tbody>\n",
       "</table>\n",
       "</div>"
      ],
      "text/plain": [
       "     name  score  strategy\n",
       "0   Hanna      2      Rock\n",
       "1   Becca      5  Scissors\n",
       "2    Bryn      5      Rock\n",
       "3     Zoe      5     Spock\n",
       "4  Marina      3    Lizard\n",
       "5   Annie      2     Paper\n",
       "6      TJ      2      Rock\n",
       "7  Oliver      6     Spock\n",
       "8    Nick      3    Lizard\n",
       "9    Jose      3      Rock"
      ]
     },
     "execution_count": 19,
     "metadata": {},
     "output_type": "execute_result"
    }
   ],
   "source": [
    "socialResults=pd.DataFrame(society)\n",
    "socialResults"
   ]
  },
  {
   "cell_type": "code",
   "execution_count": 20,
   "metadata": {},
   "outputs": [
    {
     "data": {
      "text/html": [
       "<div>\n",
       "<style scoped>\n",
       "    .dataframe tbody tr th:only-of-type {\n",
       "        vertical-align: middle;\n",
       "    }\n",
       "\n",
       "    .dataframe tbody tr th {\n",
       "        vertical-align: top;\n",
       "    }\n",
       "\n",
       "    .dataframe thead th {\n",
       "        text-align: right;\n",
       "    }\n",
       "</style>\n",
       "<table border=\"1\" class=\"dataframe\">\n",
       "  <thead>\n",
       "    <tr style=\"text-align: right;\">\n",
       "      <th></th>\n",
       "      <th>name</th>\n",
       "      <th>score</th>\n",
       "      <th>strategy</th>\n",
       "    </tr>\n",
       "  </thead>\n",
       "  <tbody>\n",
       "    <tr>\n",
       "      <th>7</th>\n",
       "      <td>Oliver</td>\n",
       "      <td>6</td>\n",
       "      <td>Spock</td>\n",
       "    </tr>\n",
       "  </tbody>\n",
       "</table>\n",
       "</div>"
      ],
      "text/plain": [
       "     name  score strategy\n",
       "7  Oliver      6    Spock"
      ]
     },
     "execution_count": 20,
     "metadata": {},
     "output_type": "execute_result"
    }
   ],
   "source": [
    "filter1=socialResults.score==socialResults.score.max()\n",
    "winner=socialResults[filter1]\n",
    "\n",
    "#social outcome\n",
    "winner"
   ]
  },
  {
   "cell_type": "code",
   "execution_count": 21,
   "metadata": {},
   "outputs": [
    {
     "data": {
      "text/html": [
       "<div>\n",
       "<style scoped>\n",
       "    .dataframe tbody tr th:only-of-type {\n",
       "        vertical-align: middle;\n",
       "    }\n",
       "\n",
       "    .dataframe tbody tr th {\n",
       "        vertical-align: top;\n",
       "    }\n",
       "\n",
       "    .dataframe thead th {\n",
       "        text-align: right;\n",
       "    }\n",
       "</style>\n",
       "<table border=\"1\" class=\"dataframe\">\n",
       "  <thead>\n",
       "    <tr style=\"text-align: right;\">\n",
       "      <th></th>\n",
       "      <th>name</th>\n",
       "      <th>score</th>\n",
       "      <th>strategy</th>\n",
       "    </tr>\n",
       "  </thead>\n",
       "  <tbody>\n",
       "    <tr>\n",
       "      <th>0</th>\n",
       "      <td>Hanna</td>\n",
       "      <td>2</td>\n",
       "      <td>Rock</td>\n",
       "    </tr>\n",
       "    <tr>\n",
       "      <th>5</th>\n",
       "      <td>Annie</td>\n",
       "      <td>2</td>\n",
       "      <td>Paper</td>\n",
       "    </tr>\n",
       "    <tr>\n",
       "      <th>6</th>\n",
       "      <td>TJ</td>\n",
       "      <td>2</td>\n",
       "      <td>Rock</td>\n",
       "    </tr>\n",
       "  </tbody>\n",
       "</table>\n",
       "</div>"
      ],
      "text/plain": [
       "    name  score strategy\n",
       "0  Hanna      2     Rock\n",
       "5  Annie      2    Paper\n",
       "6     TJ      2     Rock"
      ]
     },
     "execution_count": 21,
     "metadata": {},
     "output_type": "execute_result"
    }
   ],
   "source": [
    "filter2=socialResults.score==socialResults.score.min()\n",
    "loser=socialResults[filter2]\n",
    "\n",
    "#social outcome\n",
    "loser"
   ]
  },
  {
   "cell_type": "code",
   "execution_count": null,
   "metadata": {},
   "outputs": [],
   "source": []
  }
 ],
 "metadata": {
  "kernelspec": {
   "display_name": "Python 3",
   "language": "python",
   "name": "python3"
  },
  "language_info": {
   "codemirror_mode": {
    "name": "ipython",
    "version": 3
   },
   "file_extension": ".py",
   "mimetype": "text/x-python",
   "name": "python",
   "nbconvert_exporter": "python",
   "pygments_lexer": "ipython3",
   "version": "3.8.5"
  }
 },
 "nbformat": 4,
 "nbformat_minor": 4
}
